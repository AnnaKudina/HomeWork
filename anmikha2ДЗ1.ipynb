{
 "cells": [
  {
   "cell_type": "markdown",
   "metadata": {},
   "source": [
    "## Задание 1.1"
   ]
  },
  {
   "cell_type": "code",
   "execution_count": 10,
   "metadata": {
    "collapsed": false
   },
   "outputs": [
    {
     "name": "stdout",
     "output_type": "stream",
     "text": [
      "Установлен Phyton 3.6\n"
     ]
    }
   ],
   "source": [
    "print('Установлен Phyton 3.6')"
   ]
  },
  {
   "cell_type": "markdown",
   "metadata": {},
   "source": [
    "## Задание 1.2"
   ]
  },
  {
   "cell_type": "code",
   "execution_count": 9,
   "metadata": {
    "collapsed": false
   },
   "outputs": [
    {
     "name": "stdout",
     "output_type": "stream",
     "text": [
      "УЗ заведена - AnnaKudina\n"
     ]
    }
   ],
   "source": [
    "print('УЗ заведена - AnnaKudina')"
   ]
  },
  {
   "cell_type": "markdown",
   "metadata": {},
   "source": [
    "## Задание 1.3"
   ]
  },
  {
   "cell_type": "code",
   "execution_count": 1,
   "metadata": {
    "collapsed": false
   },
   "outputs": [
    {
     "name": "stdout",
     "output_type": "stream",
     "text": [
      "Здравствуй, дивный новый мир!\n"
     ]
    }
   ],
   "source": [
    "print('Здравствуй, дивный новый мир!')"
   ]
  },
  {
   "cell_type": "markdown",
   "metadata": {},
   "source": [
    "## Задание 1.4"
   ]
  },
  {
   "cell_type": "markdown",
   "metadata": {},
   "source": [
    "* Для автоматизации рабочих процессов\n",
    "* Для оптимизации имеющихся скриптов\n",
    "* Для использования в качестве альтернативы bash"
   ]
  },
  {
   "cell_type": "markdown",
   "metadata": {},
   "source": [
    "## Задание 2.1"
   ]
  },
  {
   "cell_type": "code",
   "execution_count": 4,
   "metadata": {
    "collapsed": false
   },
   "outputs": [
    {
     "name": "stdout",
     "output_type": "stream",
     "text": [
      "97969.14166032098\n"
     ]
    }
   ],
   "source": [
    "import math\n",
    "Profit=200000*(1+8/(100*12))**(12*5)-200000\n",
    "print(Profit)"
   ]
  },
  {
   "cell_type": "markdown",
   "metadata": {},
   "source": [
    "## Задание 3.1\n",
    "$$Profit=S{\\cdot}(1+\\frac{p}{100{\\cdot}f})^{f{\\cdot}L}-S$$"
   ]
  },
  {
   "cell_type": "code",
   "execution_count": 5,
   "metadata": {
    "collapsed": false
   },
   "outputs": [
    {
     "name": "stdout",
     "output_type": "stream",
     "text": [
      "97969.14166032098\n"
     ]
    }
   ],
   "source": [
    "p=8.0\n",
    "f=12\n",
    "S=200000.0\n",
    "L=5\n",
    "Profit=S*(1+p/(100*f))**(L*f)-S\n",
    "print(Profit)"
   ]
  },
  {
   "cell_type": "code",
   "execution_count": 6,
   "metadata": {
    "collapsed": false
   },
   "outputs": [
    {
     "name": "stdout",
     "output_type": "stream",
     "text": [
      "93865.61536000011\n"
     ]
    }
   ],
   "source": [
    "p=8.0\n",
    "f=1\n",
    "S=200000.0\n",
    "L=5\n",
    "Profit=S*(1+p/(100*f))**(L*f)-S\n",
    "print(Profit)"
   ]
  },
  {
   "cell_type": "code",
   "execution_count": null,
   "metadata": {
    "collapsed": true
   },
   "outputs": [],
   "source": []
  }
 ],
 "metadata": {
  "kernelspec": {
   "display_name": "Python 3",
   "language": "python",
   "name": "python3"
  },
  "language_info": {
   "codemirror_mode": {
    "name": "ipython",
    "version": 3
   },
   "file_extension": ".py",
   "mimetype": "text/x-python",
   "name": "python",
   "nbconvert_exporter": "python",
   "pygments_lexer": "ipython3",
   "version": "3.6.0"
  }
 },
 "nbformat": 4,
 "nbformat_minor": 2
}
